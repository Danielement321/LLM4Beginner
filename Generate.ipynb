{
 "cells": [
  {
   "cell_type": "code",
   "execution_count": 1,
   "metadata": {},
   "outputs": [],
   "source": [
    "import os\n",
    "\n",
    "os.environ['TRANSFORMERS_OFFLINE'] = '1'"
   ]
  },
  {
   "cell_type": "code",
   "execution_count": 2,
   "metadata": {},
   "outputs": [],
   "source": [
    "import torch\n",
    "from transformers import AutoTokenizer\n",
    "from models import DecoderOnlyTransformer\n",
    "from config import *\n",
    "from generate_utils import *\n",
    "from utils import config_check"
   ]
  },
  {
   "cell_type": "code",
   "execution_count": 3,
   "metadata": {},
   "outputs": [
    {
     "name": "stdout",
     "output_type": "stream",
     "text": [
      "CONFIG:{'d_model': 768, 'max_seq_length': 64, 'num_heads': 12, 'decoder_depth': 12, 'ffn_dim': 3072, 'dropout': 0.1, 'vocab_size': 21128, 'device': 'cuda'}\n",
      "Model Parameters: 145,968,776\n"
     ]
    },
    {
     "data": {
      "text/plain": [
       "<All keys matched successfully>"
      ]
     },
     "execution_count": 3,
     "metadata": {},
     "output_type": "execute_result"
    }
   ],
   "source": [
    "tokenizer = AutoTokenizer.from_pretrained('google-bert/bert-base-chinese')\n",
    "CONFIG['vocab_size'] = tokenizer.vocab_size\n",
    "\n",
    "config_check()\n",
    "model = DecoderOnlyTransformer(CONFIG).to(CONFIG['device'])\n",
    "model.load_state_dict(torch.load('ckpts/DecoderOnlyTransformer.pth', weights_only=True))"
   ]
  },
  {
   "cell_type": "code",
   "execution_count": 4,
   "metadata": {},
   "outputs": [
    {
     "data": {
      "text/plain": [
       "['##烘 没 有 可 能 要 ， 浮 肿 且 吞 咽 养 障 吟 饰 挂 在 家 解 释 了 ， 我 邻 外 省 小 故 事 介 ？, 正 文 为 我 并 不 仅 仅 仅 就 是 处 理 智 尚 在 这 两',\n",
       " '習 里 vs facebook apple 尚 没 有 对 应 的 企 业 ， 在 网 络 上 乱 关 系 以 存 在 每 天 7 月 份 浙 大 城 市 学 院 \", webtext2019zh \\\\ web _ text _ zh _ t',\n",
       " '##疽 老 师 。 有 讽 有 三 大 学 五 年 ， 在 学 校 从 相 都 是 野 项 志 考 研 报 的 经 过 比 如 题 主 你 只 会 了 就 知 道 找 个 好 朋 友 她 ， 完 她 的 温',\n",
       " '妒 中 没 有 美 的 感 应 该 是 什 么 ？, 简 单 的 描 述 是 据 说 夏 天 只 有 白 痴 才 是 作 教 材 ， 不 敢 让 丝 啥 感 怎 样 玩 风 女 才 是 羨 玩 ？ <',\n",
       " '论 ？ < br > < img src, 正 文 为 女 主 亲 友 ， 对 几 位 [UNK] 的 速 度 摔 度 扫 换 剥 了 来 说 怕 几 米 外 ， 对 应 该 怎 么 搭 配 才 能 找 到 一 个',\n",
       " 'guestname you 告 业 的 22 岁 ？, 简 单 的 描 述 是, 正 文 为 值 之 前 的 周 婉 君 。 未 登 记 得 太 扣 细 节 的 所 作 战 争 志 有 特 点 的 上 没 有 利 落 成',\n",
       " '##喟 然 收 礼 物 狗 题 要 高 三 西 最 美 上 ： [UNK] 三 院 学 期 代 研 究 第 一 次 追 她 还 是 [UNK] 的 坚 持 全 排 斥 的 不 过 每 天 吗 ？, 正 文 为 [UNK] 某 幂',\n",
       " 'mandy 年 在 不 同 一 时 间 酒 肆 提 是 电 影 定 地 ， 您 \", webtext2019zh \\\\ web _ text _ zh _ train. json \" 问 题 是 有 没 有 人 按 照 问 答 社 区',\n",
       " 'boot 力 的 饮 几 位 钉 \", webtext2019zh \\\\ web _ text _ zh _ train. json \" 问 题 是 有 一 个 芦 苇 女 生 ， 该 不 给 她 有 没 有 什 么 什 么 ？,',\n",
       " 'なお 引 的 。 吸 引 人 总 是 专 注 执 着 心 无 旁 骛 ， 有 胸 襟 能 担 当 敢 负 责 。 男 生 器 大 活 好 就 另 当 别 小 干 净 积 指 弹 大 概 有 资 格 ？ <']"
      ]
     },
     "execution_count": 4,
     "metadata": {},
     "output_type": "execute_result"
    }
   ],
   "source": [
    "GENERATE_CONFIG['temperature'] = 1.2\n",
    "GENERATE_CONFIG['greedy'] = False\n",
    "\n",
    "random_generate(model, tokenizer, batch_size=10, max_new_tokens=50)"
   ]
  },
  {
   "cell_type": "code",
   "execution_count": 5,
   "metadata": {},
   "outputs": [
    {
     "data": {
      "text/plain": [
       "['苏 州 若 在 你 若 里 丢 了 哪 儿 ）, 正 文 为 我 让 你 的 读 100 米 你 们 就 对 象 中 得 全 没 有 可 能 考 什 么 ？, 简 单 的 描 述 是, 正 文 为',\n",
       " '苏 州 大 学 的 学 的 学 学 的 学 顺 利 地 谈 了 四 年 如 今 已 经 顺 利 地 走 进 了 学 顺 利 地 走 进 了 婚 姻 殿 堂 并 且 是 带 着 爱 的 结 晶 走 进',\n",
       " '苏 州 。 此 处 学 故 事 转 比 亚 ， 30 岁 ， 对 驾 驶 没 有 统 南 财 经 和 是 一 个 学 经 历 的 ， 难 忘 同 学 经 历 ， 比 在 坐 各 位 都 是 证 明 星',\n",
       " '苏 州 大 学 的 学 顺 利 地 谈 了 四 年 的 时 候 ， 有 时 候 我 们 俩 不 会 经 历 岁, 正 文 为 房 价 跌 我 压 根 就 没 \", webtext2019zh \\\\ web',\n",
       " '苏 州 ， 追 求 只 能 选 择 沉 默 ， 让 他 自 己 考 虑 。 他 给 我 的 价 值 ， 领 导 意 识 到 自 己 已 经 爱 上 他 了 我 对 我 能 与 之 前 也 很 重 个']"
      ]
     },
     "execution_count": 5,
     "metadata": {},
     "output_type": "execute_result"
    }
   ],
   "source": [
    "GENERATE_CONFIG['temperature'] = 0.75\n",
    "GENERATE_CONFIG['greedy'] = False\n",
    "\n",
    "context = \"苏州\"\n",
    "context_generate(context, model, tokenizer)"
   ]
  }
 ],
 "metadata": {
  "kernelspec": {
   "display_name": "Python 3",
   "language": "python",
   "name": "python3"
  },
  "language_info": {
   "codemirror_mode": {
    "name": "ipython",
    "version": 3
   },
   "file_extension": ".py",
   "mimetype": "text/x-python",
   "name": "python",
   "nbconvert_exporter": "python",
   "pygments_lexer": "ipython3",
   "version": "3.12.2"
  }
 },
 "nbformat": 4,
 "nbformat_minor": 2
}
