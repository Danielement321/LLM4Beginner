{
 "cells": [
  {
   "cell_type": "code",
   "execution_count": 1,
   "metadata": {},
   "outputs": [],
   "source": [
    "import os\n",
    "os.environ['TRANSFORMERS_OFFLINE'] = '1'\n",
    "import torch\n",
    "from transformers import AutoTokenizer\n",
    "from models import DecoderOnlyTransformer\n",
    "from config import *\n",
    "from utils import *"
   ]
  },
  {
   "cell_type": "code",
   "execution_count": 2,
   "metadata": {},
   "outputs": [
    {
     "name": "stdout",
     "output_type": "stream",
     "text": [
      "CONFIG:SimpleDecoderOnlyTransformerConfig {\n",
      "  \"device\": \"cuda\",\n",
      "  \"dropout\": 0.1,\n",
      "  \"eps\": 1e-06,\n",
      "  \"hidden_size\": 768,\n",
      "  \"intermediate_size\": 3072,\n",
      "  \"max_seq_len\": 64,\n",
      "  \"model_type\": \"simple_decoder_only_transformer\",\n",
      "  \"n_layers\": 12,\n",
      "  \"num_attention_heads\": 12,\n",
      "  \"transformers_version\": \"4.46.1\",\n",
      "  \"vocab_size\": 30522\n",
      "}\n",
      "\n",
      "Model Parameters: 131,966,778\n"
     ]
    },
    {
     "data": {
      "text/plain": [
       "<All keys matched successfully>"
      ]
     },
     "execution_count": 2,
     "metadata": {},
     "output_type": "execute_result"
    }
   ],
   "source": [
    "tokenizer = AutoTokenizer.from_pretrained('google-bert/bert-base-uncased')\n",
    "config = SimpleDecoderOnlyTransformerConfig(vocab_size = tokenizer.vocab_size)\n",
    "\n",
    "config_check(config)\n",
    "model = DecoderOnlyTransformer(config).to(config.device)\n",
    "model.load_state_dict(torch.load('ckpts/DecoderOnlyTransformer.pth', weights_only=True), strict=False)"
   ]
  },
  {
   "cell_type": "code",
   "execution_count": 3,
   "metadata": {},
   "outputs": [
    {
     "data": {
      "text/plain": [
       "[\"rivers attacks in istanbul on neighboring libyan parties, the hina news agency reported thursday. the us department of defense thursday summoned us president george w. bush that saddam hussein ' s ` ` unhealthy ' ' s federation on their overseas agenda, including\",\n",
       " \"neighboring countries and support for a two million dollar bounty on madagaurate approval during president hugo chavez ' s visit to the united states. trading in shares in morning trade here fell on thursday, dealers said. malaysian share prices closed #. # # percent\",\n",
       " \"hotel. a bomb found an < unk > in uzbekistan house arrest of gunmen sunday caused by the suicide attack of a bastion of the ` ` oil war ' ' between the rival united nations and iraq. french police on sunday killed an algerian suspected of running\",\n",
       " 'contemplating to be incursions into neighboring countries, a us military spokesman said tuesday. some # #, # # # refugees in republic will from neighbouring tanzania to instill the war with rwanda, a parliamentary source confirmed tuesday. romanian prime minister nicolae g',\n",
       " \"[unused22] said. the leader of georgia ' s assassinated separatist region of adjara, a state television station told afp monday. china ' s top leadership pledged monday to boost cooperation to crime in human rights. a russian march # # visit to\",\n",
       " \"paula jones his first day of her second one - day cricket series match here on saturday. russian troops saturday defused a bomb near abkhaz in the capital of chien, where civilian head of europe ' s main anti - terrorism relations looks set to\",\n",
       " \"##za. a titanic by tamil tiger guerrillas in sri lanka ' s embattled eastern town of bukavu sunday, leaving at least # # civilians them to track. carried out four points of three mallss of the six - nation african neighbors here sunday\",\n",
       " 'pembridge german publicic officially wanted to shake off relations with china after talks with his chinese counterpart li peng, the xinhua news agency reported. the main legal affairs committee meeting in south korea has admitted to press demands that defendants had taken place on',\n",
       " \"scramble in the thai capital on thursday to push for a fresh offensive against an agreement with the entreede to poor and alleviate competitions. us tobacco giants philip morris, two # #. # percent, in reply to australia ' s inflated trailing, finance minister\",\n",
       " 'marx cooper posted on wednesday a net loss of # #. # million dollars. teachers in dubai are open to support for the capital punishment, spat by torrential rains and government forces from the neighbouring country. the chief un human rights commission condemned thursday the mo']"
      ]
     },
     "execution_count": 3,
     "metadata": {},
     "output_type": "execute_result"
    }
   ],
   "source": [
    "# GENERATE_CONFIG['temperature'] = 1.2\n",
    "# GENERATE_CONFIG['greedy'] = False\n",
    "\n",
    "generated_idx = model.random_generate(batch_size=10, max_new_tokens=50)\n",
    "generated_text = [''.join(tokenizer.decode(x)) for x in generated_idx.tolist()]\n",
    "generated_text"
   ]
  },
  {
   "cell_type": "code",
   "execution_count": 4,
   "metadata": {},
   "outputs": [
    {
     "data": {
      "text/plain": [
       "[\"the finance ministry said. bahrain ' s president sheikh omar al - beshir on saturday accused iran of ` ` incompetees ' ' of doing unconruling and to its civil aviation problems and establish an aid deal. the people of youths died in\",\n",
       " 'the finance ministry said monday the venue against the united states cotmposed disarmament because of heavily fears of an armed uprising. germany and france are behind christmas faith in afghanistan by a british bank that stabilised the holiday is urgency on reading about the scale, the',\n",
       " 'the finance ministry said monday. the prime minister of the como space < unk > state has been sentenced to five years in prison for having fallen foreigners, if wilderness wins a veiled ultimatum imposed on a tip - off. over last - minute urgent at hannes',\n",
       " 'the finance ministry said on friday. the fate of the russian opposition leader vladimir zhi anatoly is to meet french counterpart jacques chirac which would recover from the national assembly although surgery that will resume down, newspapers reported friday. german business group siemens has decided to',\n",
       " \"the finance ministry announced monday. portugal will reopen its military operations in # # # # despite hopes of reforming signs hamid karzai, france ' s foreign minister nat < unk > said monday after president boris yeltsin ' s visit will meet in paris\"]"
      ]
     },
     "execution_count": 4,
     "metadata": {},
     "output_type": "execute_result"
    }
   ],
   "source": [
    "# GENERATE_CONFIG['temperature'] = 0.75\n",
    "# GENERATE_CONFIG['greedy'] = False\n",
    "\n",
    "context = \"the finance ministry\"\n",
    "input_idx = tokenizer(context, return_tensors='pt')['input_ids'][:, 1:-1].repeat(5, 1).to(config.device)\n",
    "# input_idx = tokenizer(context, return_tensors='pt')['input_ids'].repeat(5, 1).to(config.device)\n",
    "generated_idx = model.generate(input_idx)\n",
    "generated_text = [''.join(tokenizer.decode(x)) for x in generated_idx.tolist()]\n",
    "generated_text"
   ]
  }
 ],
 "metadata": {
  "kernelspec": {
   "display_name": "base",
   "language": "python",
   "name": "python3"
  },
  "language_info": {
   "codemirror_mode": {
    "name": "ipython",
    "version": 3
   },
   "file_extension": ".py",
   "mimetype": "text/x-python",
   "name": "python",
   "nbconvert_exporter": "python",
   "pygments_lexer": "ipython3",
   "version": "3.12.2"
  }
 },
 "nbformat": 4,
 "nbformat_minor": 2
}
