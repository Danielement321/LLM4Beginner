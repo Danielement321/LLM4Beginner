{
 "cells": [
  {
   "cell_type": "code",
   "execution_count": 1,
   "metadata": {},
   "outputs": [],
   "source": [
    "import os\n",
    "\n",
    "os.environ['TRANSFORMERS_OFFLINE'] = '1'"
   ]
  },
  {
   "cell_type": "code",
   "execution_count": 2,
   "metadata": {},
   "outputs": [],
   "source": [
    "import torch\n",
    "from transformers import AutoTokenizer\n",
    "from models import DecoderOnlyTransformer\n",
    "from config import *\n",
    "from generate_utils import *\n",
    "from utils import *"
   ]
  },
  {
   "cell_type": "code",
   "execution_count": 3,
   "metadata": {},
   "outputs": [
    {
     "name": "stdout",
     "output_type": "stream",
     "text": [
      "CONFIG:{'d_model': 768, 'max_seq_length': 64, 'num_heads': 12, 'encoder_depth': 6, 'decoder_depth': 12, 'ffn_dim': 3072, 'dropout': 0.1, 'vocab_size': 30522, 'eps': 1e-06, 'device': 'cuda', 'tokenizer': 'google-bert/bert-base-uncased'}\n",
      "Model Parameters: 131,966,778\n"
     ]
    },
    {
     "data": {
      "text/plain": [
       "<All keys matched successfully>"
      ]
     },
     "execution_count": 3,
     "metadata": {},
     "output_type": "execute_result"
    }
   ],
   "source": [
    "tokenizer = AutoTokenizer.from_pretrained(CONFIG['tokenizer'])\n",
    "CONFIG['vocab_size'] = tokenizer.vocab_size\n",
    "\n",
    "config_check()\n",
    "model = DecoderOnlyTransformer(CONFIG).to(CONFIG['device'])\n",
    "model.load_state_dict(torch.load('ckpts/DecoderOnlyTransformer.pth', weights_only=True), strict=False)"
   ]
  },
  {
   "cell_type": "code",
   "execution_count": 4,
   "metadata": {},
   "outputs": [
    {
     "data": {
      "text/plain": [
       "[\"bolivar wednesday repeated president natives shannon ` `tao for werner k dead, ' ' sessioning made by islamic from his fifth senior april, as the official told afp for falling living standards and low salaries. hong kong shares closed down #. # # percent\",\n",
       " '阝 former mobutu associates in custody. supporters of radovan karadzic expelled his rival, the ruling party, an adviser to close be the eu to close their full vigilance on tuesday after london forex market, jack within commodity prices',\n",
       " 'nak has crashed on optimism killing has been released from a tehran prison after a hefty bail was posted, a top judiciary official said tuesday. the jewish group anti - defamation league on tuesday reversed itself and called a world war i - era massacre of armenians',\n",
       " \"contempt of circumcision as his ancestors - a celebration of manhood that most iranians have long discarded for a simple but sterile hospital procedure. afghanistan will produce another record poppy harvest this year that cements its status as the world ' s unk\",\n",
       " 'malay ahead of top humanitarian aid with scientists watching through satellite eyes for peaceful shattered a global financial crisis. montenegro no deal sars have taken to india for a record seventh victory in the sword in the sealing industry. the leaders of the people worldwide major championship at',\n",
       " \"[unused35] dance and it foreign aid. a newspaper reported monday that an fbi team was en route to israel to question an unk bomber about last month ' s twa jetliner explosion near new york. david rikl of the czech republic defeated croatian goran\",\n",
       " \"1805 to make slovenia ' s flood miseries, a river burst its banks in the north, stranding # # # people and washing away rail lines, the official xinhua news agency said sunday. the british and irish governments say they will wipe out\",\n",
       " \"td taxonomic from dallas. actors, knocking report showed that many unveiled taiwan ' s prime minister homi settlers : unk was manchester united ' s baseball cup one of the season scorers before going abroad, a move said monday. austrian us supreme baghdad police\",\n",
       " 'depressed at santa monica college in the final qualifying game, 山 latvia celebrated by radio tuning between three years, who managed argentina to the vatican, paving the french open championsa newsman whoect reports said tuesday. two units wants to sit to set up sc',\n",
       " \"feminine us $ # #. # million - lrb - euro # #. # million - rrb - atp event on hardcourts at lindner family tennis center - lrb - seedings in parentheses - rrb - : unk nato '\"]"
      ]
     },
     "execution_count": 4,
     "metadata": {},
     "output_type": "execute_result"
    }
   ],
   "source": [
    "GENERATE_CONFIG['temperature'] = 1.2\n",
    "GENERATE_CONFIG['greedy'] = False\n",
    "\n",
    "random_generate(model, tokenizer, batch_size=10, max_new_tokens=50)"
   ]
  },
  {
   "cell_type": "code",
   "execution_count": 8,
   "metadata": {},
   "outputs": [
    {
     "data": {
      "text/plain": [
       "['the finance ministry said on monday. hollywood fashion commentator steven unk underwent surgery monday for removal',\n",
       " 'the finance ministry said on monday. hollywood fashion commentator steven unk underwent surgery monday for removal',\n",
       " 'the finance ministry said on monday. hollywood fashion commentator steven unk underwent surgery monday for removal',\n",
       " 'the finance ministry said on monday. hollywood fashion commentator steven unk underwent surgery monday for removal',\n",
       " 'the finance ministry said on monday. hollywood fashion commentator steven unk underwent surgery monday for removal']"
      ]
     },
     "execution_count": 8,
     "metadata": {},
     "output_type": "execute_result"
    }
   ],
   "source": [
    "GENERATE_CONFIG['temperature'] = 0.75\n",
    "GENERATE_CONFIG['greedy'] = False\n",
    "\n",
    "context = \"the finance ministry\"\n",
    "context_generate(context, model, tokenizer, batch_size=5, max_new_tokens=15)"
   ]
  }
 ],
 "metadata": {
  "kernelspec": {
   "display_name": "base",
   "language": "python",
   "name": "python3"
  },
  "language_info": {
   "codemirror_mode": {
    "name": "ipython",
    "version": 3
   },
   "file_extension": ".py",
   "mimetype": "text/x-python",
   "name": "python",
   "nbconvert_exporter": "python",
   "pygments_lexer": "ipython3",
   "version": "3.12.2"
  }
 },
 "nbformat": 4,
 "nbformat_minor": 2
}
