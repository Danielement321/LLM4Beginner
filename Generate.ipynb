{
 "cells": [
  {
   "cell_type": "code",
   "execution_count": 1,
   "metadata": {},
   "outputs": [],
   "source": [
    "import os\n",
    "os.environ['TRANSFORMERS_OFFLINE'] = '1'\n",
    "import torch\n",
    "from transformers import AutoTokenizer\n",
    "from models import *\n",
    "from config import *\n",
    "from utils import *\n",
    "\n",
    "tokenizer = AutoTokenizer.from_pretrained('google-bert/bert-base-uncased')"
   ]
  },
  {
   "cell_type": "markdown",
   "metadata": {},
   "source": [
    "## The Simple FFN Model Generation"
   ]
  },
  {
   "cell_type": "code",
   "execution_count": 2,
   "metadata": {},
   "outputs": [],
   "source": [
    "# config = SimpleModelConfig(vocab_size=tokenizer.vocab_size)\n",
    "\n",
    "# config_check(config)\n",
    "# model = SimpleModel(config).to(config.device)\n",
    "# model = SimpleModel.from_pretrained('./ckpts/SimpleModel').to(config.device)\n",
    "# model.load_state_dict(torch.load('ckpts/SimpleModel.pth', weights_only=True), strict=False)"
   ]
  },
  {
   "cell_type": "markdown",
   "metadata": {},
   "source": [
    "# The Decoder Only Transformer Model Generation"
   ]
  },
  {
   "cell_type": "code",
   "execution_count": 3,
   "metadata": {},
   "outputs": [
    {
     "name": "stdout",
     "output_type": "stream",
     "text": [
      "CONFIG:SimpleDecoderOnlyTransformerConfig {\n",
      "  \"device\": \"cuda\",\n",
      "  \"dropout\": 0.1,\n",
      "  \"eps\": 1e-06,\n",
      "  \"flash_attn\": false,\n",
      "  \"hidden_size\": 768,\n",
      "  \"intermediate_size\": 3072,\n",
      "  \"max_seq_len\": 64,\n",
      "  \"model_type\": \"simple_decoder_only_transformer\",\n",
      "  \"n_layers\": 12,\n",
      "  \"num_attention_heads\": 12,\n",
      "  \"transformers_version\": \"4.46.1\",\n",
      "  \"vocab_size\": 30522\n",
      "}\n",
      "\n",
      "Model Parameters: 160,315,194\n"
     ]
    }
   ],
   "source": [
    "config = SimpleDecoderOnlyTransformerConfig(vocab_size=tokenizer.vocab_size)\n",
    "\n",
    "config_check(config)\n",
    "# Load models trained with Trainer\n",
    "model = DecoderOnlyTransformer.from_pretrained('./ckpts/DecoderOnlyTransformer').to(config.device)\n",
    "\n",
    "# Load models trained with plain methods (state_dict in pth/pt file)\n",
    "# model = DecoderOnlyTransformer(config).to(config.device)\n",
    "# model.load_state_dict(torch.load('ckpts/DecoderOnlyTransformer.pth', weights_only=True), strict=False)"
   ]
  },
  {
   "cell_type": "code",
   "execution_count": 4,
   "metadata": {},
   "outputs": [
    {
     "data": {
      "text/plain": [
       "['pour was revived prices opener orlando an additional just day at the start of trading on monday after the sale of his recent team, analysts said. trade between south africa and australia rose dramatically over the past # # months to over four billion rand - lrb -',\n",
       " '##right high as to victory over in the same individual athletics final here saturday. coach jurgens rehhagel on saturday < unk > the ar brought down the curtain on his # # - year career with the chicago bulls at the # # # #',\n",
       " '##old in which his number would meent. the paris bourse staged a rally in mid - afternoon on tuesday following release of data on us producer prices, which were down by #. # percent in may against an anticipated rise of #. # or #',\n",
       " '2000s and group cans, the companies said in a joint statement saturday. tajik governmental forces recaptured the command of the interior ministry in the second such raid in the city in three weeks, officials said. olympic gold was just about all that was missing from',\n",
       " \"##dha and ara issues, as the north kuala clash at waca ground. japan ' s toyota motor corp. said tuesday its domestic sales rose #. # percent from a year earlier to # # #, # # # units in november, backed by brisk\",\n",
       " \"farewell, with more than # # # of the country ' s # # # best rock publishers. britain ' s prince of kent became the country ' s first - ever female home for many women, an official said sunday. a new russian national gallery for\",\n",
       " \"monitor into activity, witnesses and witnesses said. a draft resolution on afghanistan that would give the war - ravaged country access to long - needed oil and gas reserves, calling it a ` ` crucial starting point ' ' for complete disarmament. french rogue trader\",\n",
       " 'hell exploded outside the headquarters of the troubled bank of scotland, which is to be shut down, the bank said tuesday. three east timorese took refuge in the french embassy in jakarta on tuesday morning, informed sources said. heads of state and government from #',\n",
       " \"hellenistic k ' s case dismissed as the skoda octavia wrc executive for court settlement of the murder of her father and the trial of a charge that could have national implications. the chief us gaz de france trevi on thursday pledged to return to\",\n",
       " \"slump and sex industry. british fashion designer alexander mcqueen on thursday said it would donate the entertainment prize < unk > for the # # th annual academy awards, as the organisers announced the following day. britain ' s billionaire businessman richard branson lifted off\"]"
      ]
     },
     "execution_count": 4,
     "metadata": {},
     "output_type": "execute_result"
    }
   ],
   "source": [
    "generated_idx = model.random_generate(batch_size=10, max_new_tokens=50)\n",
    "generated_text = [''.join(tokenizer.decode(x)) for x in generated_idx.tolist()]\n",
    "generated_text"
   ]
  },
  {
   "cell_type": "code",
   "execution_count": 5,
   "metadata": {},
   "outputs": [
    {
     "data": {
      "text/plain": [
       "[\"the company said earnings in the four employees of national higher commercial bank ' s employees were the same as those learned in the heat of a federal government building here rose monday to at least # #, a senior fire official said monday. the blue - chip dow jones\",\n",
       " \"the company said earnings in the four employees would be lower in the first quarter of the year as the number of lower oil and gas output rose. serbia ' s parliament may adopt a long - awaited resolution condemning the # # # # srebrenica massacre by\",\n",
       " 'the company said earnings in the four employees would be lower in the five months. the trial in ouagadougou of paraguay accused of attempting to assassinate president robert mugabe and police and a general who has been in detention for nearly two months, for beating',\n",
       " \"the company said earnings in the four months to are higher more than the value added or even none of the futures market the cboe the options exchange has to open in a that allows each different options series to trade exchange officials that they would n ' t have been\",\n",
       " \"the company said earnings in the four months to are higher more than the value added or even people have been more at stake at the table or with the in the privatization of public television in italy, the european union ' s trade commissioner said in an interview published wednesday\"]"
      ]
     },
     "execution_count": 5,
     "metadata": {},
     "output_type": "execute_result"
    }
   ],
   "source": [
    "# GENERATE_CONFIG['temperature'] = 0.75\n",
    "# GENERATE_CONFIG['greedy'] = False\n",
    "\n",
    "context = \"the company\"\n",
    "input_idx = tokenizer(context, return_tensors='pt')['input_ids'][:, 1:-1].repeat(5, 1).to(config.device)\n",
    "# input_idx = tokenizer(context, return_tensors='pt')['input_ids'].repeat(5, 1).to(config.device)\n",
    "generated_idx = model.generate(input_idx, temperature=0.75)\n",
    "generated_text = [''.join(tokenizer.decode(x)) for x in generated_idx.tolist()]\n",
    "generated_text"
   ]
  }
 ],
 "metadata": {
  "kernelspec": {
   "display_name": "base",
   "language": "python",
   "name": "python3"
  },
  "language_info": {
   "codemirror_mode": {
    "name": "ipython",
    "version": 3
   },
   "file_extension": ".py",
   "mimetype": "text/x-python",
   "name": "python",
   "nbconvert_exporter": "python",
   "pygments_lexer": "ipython3",
   "version": "3.12.2"
  }
 },
 "nbformat": 4,
 "nbformat_minor": 2
}
