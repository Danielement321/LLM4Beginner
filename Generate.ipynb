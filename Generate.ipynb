{
 "cells": [
  {
   "cell_type": "code",
   "execution_count": 7,
   "metadata": {},
   "outputs": [],
   "source": [
    "import os\n",
    "os.environ['TRANSFORMERS_OFFLINE'] = '1'\n",
    "import torch\n",
    "from transformers import AutoTokenizer\n",
    "from models import DecoderOnlyTransformer\n",
    "from config import *\n",
    "from utils import *"
   ]
  },
  {
   "cell_type": "code",
   "execution_count": 8,
   "metadata": {},
   "outputs": [
    {
     "name": "stdout",
     "output_type": "stream",
     "text": [
      "CONFIG:SimpleDecoderOnlyTransformerConfig {\n",
      "  \"device\": \"cuda\",\n",
      "  \"dropout\": 0.1,\n",
      "  \"eps\": 1e-06,\n",
      "  \"flash_attn\": false,\n",
      "  \"hidden_size\": 768,\n",
      "  \"intermediate_size\": 3072,\n",
      "  \"max_seq_len\": 64,\n",
      "  \"model_type\": \"simple_decoder_only_transformer\",\n",
      "  \"n_layers\": 12,\n",
      "  \"num_attention_heads\": 12,\n",
      "  \"transformers_version\": \"4.46.1\",\n",
      "  \"vocab_size\": 30522\n",
      "}\n",
      "\n"
     ]
    },
    {
     "name": "stdout",
     "output_type": "stream",
     "text": [
      "Model Parameters: 160,315,194\n"
     ]
    },
    {
     "data": {
      "text/plain": [
       "<All keys matched successfully>"
      ]
     },
     "execution_count": 8,
     "metadata": {},
     "output_type": "execute_result"
    }
   ],
   "source": [
    "tokenizer = AutoTokenizer.from_pretrained('google-bert/bert-base-uncased')\n",
    "config = SimpleDecoderOnlyTransformerConfig(vocab_size = tokenizer.vocab_size)\n",
    "\n",
    "config_check(config)\n",
    "model = DecoderOnlyTransformer(config).to(config.device)\n",
    "model.load_state_dict(torch.load('ckpts/DecoderOnlyTransformer.pth', weights_only=True), strict=False)"
   ]
  },
  {
   "cell_type": "code",
   "execution_count": 9,
   "metadata": {},
   "outputs": [
    {
     "data": {
      "text/plain": [
       "[\"shelves premier tansu ciller on wednesday as part of her attempt to tighten the grip on premier mesut yilmaz. wong peng soon, a four - time all - england singles badminton champion and singapore ' s most famous sportsman, has died of\",\n",
       " \"special envoy to iraq and oversee its transition to democratic rule. president chandrika kumaratunga accused her political rival, sri lanka ' s prime minister, of ` ` degrading ' ' the country ' s military and raising the ` ` false\",\n",
       " 'intimidating on thursday accused pakistan of sending its troops and combat aircraft to help the taliban movement crush its opponents in northern afghanistan. four poles were given sentences from # # to # # months of prison in connection to one of the biggest cigarette - smuggling cases in denmark',\n",
       " \"[unused363] show against gold medalist andre agassi. australia ' s robert allenby moved closer to his third victory of the season friday when he carded a one - under # # to take a one - stroke lead after three rounds of the dlrs #\",\n",
       " 'taxi driver, who had escaped the day before, a senior official said. leonardo piepoli of italy was the clear winner thursday of the fourth stage of the tour of burgos while frenchman laurent jalabert closed the gap on overall leader abraham olano',\n",
       " 'opponents of the leftist government of president daniel ortega said wednesday they had enough votes in congress to annul the disputed november # municipal elections in nicaragua. oil prices continued to struggle under # # dollars per barrel on friday after they hit their lowest levels in almost four',\n",
       " 'winston here monday, the first between the two neighbors for three years, and vowed to continue working for closer ties. israeli prime minister benjamin netanyahu may be in washington next week and could meet with president bill clinton on the crumbling mideast peace process',\n",
       " \"intent pouly, said tuesday. ding unk believes in miracles. evander holyfield is n ' t your normal heavyweight boxing champion. in an effort to overcome a growing rift within judaism, israel ' s orthodox chief rabbis met wednesday with reform and\",\n",
       " \"chrome costa rica on television at the opening match of football ' s world cup, german public broadcaster zdf said thursday. us defense secretary donald rumsfeld said thursday the killing of al - qaeda ' s leader in iraq, abu musab unk,\",\n",
       " \"##lster in the next five years. israeli prime minister shimon peres warned residents of southern lebanon to prepare for imminent retaliatory strikes friday against villages used by hezbollah guerrillas to rocket unk shemona and other northern israeli towns. opec ' s\"]"
      ]
     },
     "execution_count": 9,
     "metadata": {},
     "output_type": "execute_result"
    }
   ],
   "source": [
    "# GENERATE_CONFIG['temperature'] = 1.2\n",
    "# GENERATE_CONFIG['greedy'] = False\n",
    "\n",
    "generated_idx = model.random_generate(batch_size=10, max_new_tokens=50)\n",
    "generated_text = [''.join(tokenizer.decode(x)) for x in generated_idx.tolist()]\n",
    "generated_text"
   ]
  },
  {
   "cell_type": "code",
   "execution_count": 16,
   "metadata": {},
   "outputs": [
    {
     "data": {
      "text/plain": [
       "[\"the apple company ' s share price leap # percent. a suspected u. s. missile strike killed a wife of pakistani taliban chief baitullah mehsud at his father - in - law ' s house wednesday, pakistani intelligence and military officials said. nascar driver\",\n",
       " \"the apple company ' s share price leap # percent. a suspected u. s. missile strike killed a wife of pakistani taliban chief baitullah mehsud at his father - in - law ' s house wednesday, pakistani intelligence and military officials said. nascar driver\",\n",
       " 'the apple company to cancel service, a company spokesman said. celebrating the # # th anniversary of the first ascension to the summit of mount everest, sir edmund hillary recalled tuesday how his partner, tenzing norgay, saved his life just before they began the historic',\n",
       " \"the apple company ' s share price leap # percent. a suspected u. s. missile strike killed a wife of pakistani taliban chief baitullah mehsud at his father - in - law ' s house wednesday, pakistani intelligence and military officials said. nascar driver\",\n",
       " 'the apple company to cancel service, a company spokesman said. celebrating the # # th anniversary of the first ascension to the summit of mount everest, sir edmund hillary recalled tuesday how his partner, tenzing norgay, saved his life just before they began the historic']"
      ]
     },
     "execution_count": 16,
     "metadata": {},
     "output_type": "execute_result"
    }
   ],
   "source": [
    "# GENERATE_CONFIG['temperature'] = 0.75\n",
    "# GENERATE_CONFIG['greedy'] = False\n",
    "\n",
    "context = \"the apple company\"\n",
    "input_idx = tokenizer(context, return_tensors='pt')['input_ids'][:, 1:-1].repeat(5, 1).to(config.device)\n",
    "# input_idx = tokenizer(context, return_tensors='pt')['input_ids'].repeat(5, 1).to(config.device)\n",
    "generated_idx = model.generate(input_idx, temperature=0.75)\n",
    "generated_text = [''.join(tokenizer.decode(x)) for x in generated_idx.tolist()]\n",
    "generated_text"
   ]
  }
 ],
 "metadata": {
  "kernelspec": {
   "display_name": "base",
   "language": "python",
   "name": "python3"
  },
  "language_info": {
   "codemirror_mode": {
    "name": "ipython",
    "version": 3
   },
   "file_extension": ".py",
   "mimetype": "text/x-python",
   "name": "python",
   "nbconvert_exporter": "python",
   "pygments_lexer": "ipython3",
   "version": "3.12.2"
  }
 },
 "nbformat": 4,
 "nbformat_minor": 2
}
