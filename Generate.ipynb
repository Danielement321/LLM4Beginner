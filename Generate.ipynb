{
 "cells": [
  {
   "cell_type": "code",
   "execution_count": 1,
   "metadata": {},
   "outputs": [],
   "source": [
    "import os\n",
    "\n",
    "os.environ['TRANSFORMERS_OFFLINE'] = '1'"
   ]
  },
  {
   "cell_type": "code",
   "execution_count": 2,
   "metadata": {},
   "outputs": [],
   "source": [
    "import torch\n",
    "from transformers import AutoTokenizer\n",
    "from models import DecoderOnlyTransformer\n",
    "from config import *\n",
    "from generate_utils import *\n",
    "from utils import *"
   ]
  },
  {
   "cell_type": "code",
   "execution_count": 3,
   "metadata": {},
   "outputs": [
    {
     "name": "stdout",
     "output_type": "stream",
     "text": [
      "CONFIG:{'d_model': 768, 'max_seq_length': 64, 'num_heads': 12, 'decoder_depth': 12, 'ffn_dim': 3072, 'dropout': 0.1, 'vocab_size': 30522, 'device': 'cuda', 'tokenizer': 'google-bert/bert-base-uncased'}\n",
      "Model Parameters: 132,003,642\n"
     ]
    },
    {
     "data": {
      "text/plain": [
       "_IncompatibleKeys(missing_keys=[], unexpected_keys=['decoder.decoder_blocks.0.cross_attention.Q_norm.weight', 'decoder.decoder_blocks.0.cross_attention.Q_norm.bias', 'decoder.decoder_blocks.0.cross_attention.K_norm.weight', 'decoder.decoder_blocks.0.cross_attention.K_norm.bias', 'decoder.decoder_blocks.0.cross_attention.V_norm.weight', 'decoder.decoder_blocks.0.cross_attention.V_norm.bias', 'decoder.decoder_blocks.0.cross_attention.Q_map.weight', 'decoder.decoder_blocks.0.cross_attention.Q_map.bias', 'decoder.decoder_blocks.0.cross_attention.K_map.weight', 'decoder.decoder_blocks.0.cross_attention.K_map.bias', 'decoder.decoder_blocks.0.cross_attention.V_map.weight', 'decoder.decoder_blocks.0.cross_attention.V_map.bias', 'decoder.decoder_blocks.0.cross_attention.fc.weight', 'decoder.decoder_blocks.0.cross_attention.fc.bias', 'decoder.decoder_blocks.1.cross_attention.Q_norm.weight', 'decoder.decoder_blocks.1.cross_attention.Q_norm.bias', 'decoder.decoder_blocks.1.cross_attention.K_norm.weight', 'decoder.decoder_blocks.1.cross_attention.K_norm.bias', 'decoder.decoder_blocks.1.cross_attention.V_norm.weight', 'decoder.decoder_blocks.1.cross_attention.V_norm.bias', 'decoder.decoder_blocks.1.cross_attention.Q_map.weight', 'decoder.decoder_blocks.1.cross_attention.Q_map.bias', 'decoder.decoder_blocks.1.cross_attention.K_map.weight', 'decoder.decoder_blocks.1.cross_attention.K_map.bias', 'decoder.decoder_blocks.1.cross_attention.V_map.weight', 'decoder.decoder_blocks.1.cross_attention.V_map.bias', 'decoder.decoder_blocks.1.cross_attention.fc.weight', 'decoder.decoder_blocks.1.cross_attention.fc.bias', 'decoder.decoder_blocks.2.cross_attention.Q_norm.weight', 'decoder.decoder_blocks.2.cross_attention.Q_norm.bias', 'decoder.decoder_blocks.2.cross_attention.K_norm.weight', 'decoder.decoder_blocks.2.cross_attention.K_norm.bias', 'decoder.decoder_blocks.2.cross_attention.V_norm.weight', 'decoder.decoder_blocks.2.cross_attention.V_norm.bias', 'decoder.decoder_blocks.2.cross_attention.Q_map.weight', 'decoder.decoder_blocks.2.cross_attention.Q_map.bias', 'decoder.decoder_blocks.2.cross_attention.K_map.weight', 'decoder.decoder_blocks.2.cross_attention.K_map.bias', 'decoder.decoder_blocks.2.cross_attention.V_map.weight', 'decoder.decoder_blocks.2.cross_attention.V_map.bias', 'decoder.decoder_blocks.2.cross_attention.fc.weight', 'decoder.decoder_blocks.2.cross_attention.fc.bias', 'decoder.decoder_blocks.3.cross_attention.Q_norm.weight', 'decoder.decoder_blocks.3.cross_attention.Q_norm.bias', 'decoder.decoder_blocks.3.cross_attention.K_norm.weight', 'decoder.decoder_blocks.3.cross_attention.K_norm.bias', 'decoder.decoder_blocks.3.cross_attention.V_norm.weight', 'decoder.decoder_blocks.3.cross_attention.V_norm.bias', 'decoder.decoder_blocks.3.cross_attention.Q_map.weight', 'decoder.decoder_blocks.3.cross_attention.Q_map.bias', 'decoder.decoder_blocks.3.cross_attention.K_map.weight', 'decoder.decoder_blocks.3.cross_attention.K_map.bias', 'decoder.decoder_blocks.3.cross_attention.V_map.weight', 'decoder.decoder_blocks.3.cross_attention.V_map.bias', 'decoder.decoder_blocks.3.cross_attention.fc.weight', 'decoder.decoder_blocks.3.cross_attention.fc.bias', 'decoder.decoder_blocks.4.cross_attention.Q_norm.weight', 'decoder.decoder_blocks.4.cross_attention.Q_norm.bias', 'decoder.decoder_blocks.4.cross_attention.K_norm.weight', 'decoder.decoder_blocks.4.cross_attention.K_norm.bias', 'decoder.decoder_blocks.4.cross_attention.V_norm.weight', 'decoder.decoder_blocks.4.cross_attention.V_norm.bias', 'decoder.decoder_blocks.4.cross_attention.Q_map.weight', 'decoder.decoder_blocks.4.cross_attention.Q_map.bias', 'decoder.decoder_blocks.4.cross_attention.K_map.weight', 'decoder.decoder_blocks.4.cross_attention.K_map.bias', 'decoder.decoder_blocks.4.cross_attention.V_map.weight', 'decoder.decoder_blocks.4.cross_attention.V_map.bias', 'decoder.decoder_blocks.4.cross_attention.fc.weight', 'decoder.decoder_blocks.4.cross_attention.fc.bias', 'decoder.decoder_blocks.5.cross_attention.Q_norm.weight', 'decoder.decoder_blocks.5.cross_attention.Q_norm.bias', 'decoder.decoder_blocks.5.cross_attention.K_norm.weight', 'decoder.decoder_blocks.5.cross_attention.K_norm.bias', 'decoder.decoder_blocks.5.cross_attention.V_norm.weight', 'decoder.decoder_blocks.5.cross_attention.V_norm.bias', 'decoder.decoder_blocks.5.cross_attention.Q_map.weight', 'decoder.decoder_blocks.5.cross_attention.Q_map.bias', 'decoder.decoder_blocks.5.cross_attention.K_map.weight', 'decoder.decoder_blocks.5.cross_attention.K_map.bias', 'decoder.decoder_blocks.5.cross_attention.V_map.weight', 'decoder.decoder_blocks.5.cross_attention.V_map.bias', 'decoder.decoder_blocks.5.cross_attention.fc.weight', 'decoder.decoder_blocks.5.cross_attention.fc.bias', 'decoder.decoder_blocks.6.cross_attention.Q_norm.weight', 'decoder.decoder_blocks.6.cross_attention.Q_norm.bias', 'decoder.decoder_blocks.6.cross_attention.K_norm.weight', 'decoder.decoder_blocks.6.cross_attention.K_norm.bias', 'decoder.decoder_blocks.6.cross_attention.V_norm.weight', 'decoder.decoder_blocks.6.cross_attention.V_norm.bias', 'decoder.decoder_blocks.6.cross_attention.Q_map.weight', 'decoder.decoder_blocks.6.cross_attention.Q_map.bias', 'decoder.decoder_blocks.6.cross_attention.K_map.weight', 'decoder.decoder_blocks.6.cross_attention.K_map.bias', 'decoder.decoder_blocks.6.cross_attention.V_map.weight', 'decoder.decoder_blocks.6.cross_attention.V_map.bias', 'decoder.decoder_blocks.6.cross_attention.fc.weight', 'decoder.decoder_blocks.6.cross_attention.fc.bias', 'decoder.decoder_blocks.7.cross_attention.Q_norm.weight', 'decoder.decoder_blocks.7.cross_attention.Q_norm.bias', 'decoder.decoder_blocks.7.cross_attention.K_norm.weight', 'decoder.decoder_blocks.7.cross_attention.K_norm.bias', 'decoder.decoder_blocks.7.cross_attention.V_norm.weight', 'decoder.decoder_blocks.7.cross_attention.V_norm.bias', 'decoder.decoder_blocks.7.cross_attention.Q_map.weight', 'decoder.decoder_blocks.7.cross_attention.Q_map.bias', 'decoder.decoder_blocks.7.cross_attention.K_map.weight', 'decoder.decoder_blocks.7.cross_attention.K_map.bias', 'decoder.decoder_blocks.7.cross_attention.V_map.weight', 'decoder.decoder_blocks.7.cross_attention.V_map.bias', 'decoder.decoder_blocks.7.cross_attention.fc.weight', 'decoder.decoder_blocks.7.cross_attention.fc.bias', 'decoder.decoder_blocks.8.cross_attention.Q_norm.weight', 'decoder.decoder_blocks.8.cross_attention.Q_norm.bias', 'decoder.decoder_blocks.8.cross_attention.K_norm.weight', 'decoder.decoder_blocks.8.cross_attention.K_norm.bias', 'decoder.decoder_blocks.8.cross_attention.V_norm.weight', 'decoder.decoder_blocks.8.cross_attention.V_norm.bias', 'decoder.decoder_blocks.8.cross_attention.Q_map.weight', 'decoder.decoder_blocks.8.cross_attention.Q_map.bias', 'decoder.decoder_blocks.8.cross_attention.K_map.weight', 'decoder.decoder_blocks.8.cross_attention.K_map.bias', 'decoder.decoder_blocks.8.cross_attention.V_map.weight', 'decoder.decoder_blocks.8.cross_attention.V_map.bias', 'decoder.decoder_blocks.8.cross_attention.fc.weight', 'decoder.decoder_blocks.8.cross_attention.fc.bias', 'decoder.decoder_blocks.9.cross_attention.Q_norm.weight', 'decoder.decoder_blocks.9.cross_attention.Q_norm.bias', 'decoder.decoder_blocks.9.cross_attention.K_norm.weight', 'decoder.decoder_blocks.9.cross_attention.K_norm.bias', 'decoder.decoder_blocks.9.cross_attention.V_norm.weight', 'decoder.decoder_blocks.9.cross_attention.V_norm.bias', 'decoder.decoder_blocks.9.cross_attention.Q_map.weight', 'decoder.decoder_blocks.9.cross_attention.Q_map.bias', 'decoder.decoder_blocks.9.cross_attention.K_map.weight', 'decoder.decoder_blocks.9.cross_attention.K_map.bias', 'decoder.decoder_blocks.9.cross_attention.V_map.weight', 'decoder.decoder_blocks.9.cross_attention.V_map.bias', 'decoder.decoder_blocks.9.cross_attention.fc.weight', 'decoder.decoder_blocks.9.cross_attention.fc.bias', 'decoder.decoder_blocks.10.cross_attention.Q_norm.weight', 'decoder.decoder_blocks.10.cross_attention.Q_norm.bias', 'decoder.decoder_blocks.10.cross_attention.K_norm.weight', 'decoder.decoder_blocks.10.cross_attention.K_norm.bias', 'decoder.decoder_blocks.10.cross_attention.V_norm.weight', 'decoder.decoder_blocks.10.cross_attention.V_norm.bias', 'decoder.decoder_blocks.10.cross_attention.Q_map.weight', 'decoder.decoder_blocks.10.cross_attention.Q_map.bias', 'decoder.decoder_blocks.10.cross_attention.K_map.weight', 'decoder.decoder_blocks.10.cross_attention.K_map.bias', 'decoder.decoder_blocks.10.cross_attention.V_map.weight', 'decoder.decoder_blocks.10.cross_attention.V_map.bias', 'decoder.decoder_blocks.10.cross_attention.fc.weight', 'decoder.decoder_blocks.10.cross_attention.fc.bias', 'decoder.decoder_blocks.11.cross_attention.Q_norm.weight', 'decoder.decoder_blocks.11.cross_attention.Q_norm.bias', 'decoder.decoder_blocks.11.cross_attention.K_norm.weight', 'decoder.decoder_blocks.11.cross_attention.K_norm.bias', 'decoder.decoder_blocks.11.cross_attention.V_norm.weight', 'decoder.decoder_blocks.11.cross_attention.V_norm.bias', 'decoder.decoder_blocks.11.cross_attention.Q_map.weight', 'decoder.decoder_blocks.11.cross_attention.Q_map.bias', 'decoder.decoder_blocks.11.cross_attention.K_map.weight', 'decoder.decoder_blocks.11.cross_attention.K_map.bias', 'decoder.decoder_blocks.11.cross_attention.V_map.weight', 'decoder.decoder_blocks.11.cross_attention.V_map.bias', 'decoder.decoder_blocks.11.cross_attention.fc.weight', 'decoder.decoder_blocks.11.cross_attention.fc.bias'])"
      ]
     },
     "execution_count": 3,
     "metadata": {},
     "output_type": "execute_result"
    }
   ],
   "source": [
    "tokenizer = AutoTokenizer.from_pretrained(CONFIG['tokenizer'])\n",
    "CONFIG['vocab_size'] = tokenizer.vocab_size\n",
    "\n",
    "config_check()\n",
    "model = DecoderOnlyTransformer(CONFIG).to(CONFIG['device'])\n",
    "model.load_state_dict(torch.load('ckpts/DecoderOnlyTransformer.pth', weights_only=True), strict=False)"
   ]
  },
  {
   "cell_type": "code",
   "execution_count": 4,
   "metadata": {},
   "outputs": [
    {
     "data": {
      "text/plain": [
       "['stephan in alberta and manitoba and in the atlantic coast provinces were and subject to federal legislative authority prior to the ruling the federal government had regulated only the telephone companies in quebec ontario british columbia and the northwest the governments of alberta and manitoba have strongly opposed federal regulation of',\n",
       " \"canteen will all our sales to be major in europe asia and europe results were also bolstered by a very meaningful increase in operating profit by colgate ' s u. s. business mr. mark said operating profit at colgate ' s u. s\",\n",
       " 'revenue rose n n and sales rose n n control data corp. minneapolis signed a joint development agreement with mips computer systems inc. to an emerging computing architecture in future machines mips is a leader in what is known as set computing or risc a technology',\n",
       " '₎ back the initial lacks prudential - bache said the york issue was delayed because of market conditions everything is going through right now and chicago & north western is no exception said vice president high - yield research at citicorp portfolio managers say like',\n",
       " 'alf to undergone decomposition. it is made by dissolving six ounces of chloride of lime in a gallon of water. for the disinfection of mattresses, live steam should be used whenever possible. when no facilities exist for steam disin',\n",
       " '##olvent and that potential losses to taxpayers were growing rapidly rep. gonzalez seems to out at mr. wall when hearings resume thursday with testimony by two federal regulators from san francisco william black and mike mr. wall relieved them of responsibility for lincoln in n mr.',\n",
       " \"laying the club so that ford is staging a press event next month linking the town car ' s launch to the of a new aircraft carrier in norfolk va but the brand had trouble from the start the first merkur the went on sale in early n the in\",\n",
       " \"initiate known in democratic circles having been executive assistant to vice president walter and chairman of mr. ' s n presidential campaign at fannie mae he will take responsibility for the corporation ' s financial and legal areas and will work with david maxwell chairman and chief executive officer\",\n",
       " \"##ode cray computer ' s chief financial officer gregory said in an interview the theory is that seymour is the chief designer of the cray - 3 and without him it could not be completed cray research did not want to fund a project that did not include\",\n",
       " 'balancing for external affairs institution coca - cola enterprises inc. its dismal earnings forecast for n said its third - quarter net income fell n n on flat revenue by higher marketing costs and slowing volume growth the giant coke bottling operation said net fell to $']"
      ]
     },
     "execution_count": 4,
     "metadata": {},
     "output_type": "execute_result"
    }
   ],
   "source": [
    "GENERATE_CONFIG['temperature'] = 1.2\n",
    "GENERATE_CONFIG['greedy'] = False\n",
    "\n",
    "random_generate(model, tokenizer, batch_size=10, max_new_tokens=50)"
   ]
  },
  {
   "cell_type": "code",
   "execution_count": 5,
   "metadata": {},
   "outputs": [
    {
     "data": {
      "text/plain": [
       "['apple computer added that it was being cautiously optimistic despite not yet closely all of its n buildings in the region even the carefully machinery in its giant plant to the north of the valley was believed to be sun microsystems inc. and tandem computers inc. also signaled',\n",
       " \"apple for a moment with was showing a lesson as investors contained. the truth was demonstrated once again in the performance of mutual funds during and after the stock market ' s friday - the - 13th plunge stock funds like the market as a whole generally dropped more than\",\n",
       " 'apple, and, even to watch that not entirely forbidden. it is suddenly a shadow of the article of the national aeronautics and space administration said a computer virus has infected one of its networks and is spreading anti - nuclear messages related to its galileo space probe which',\n",
       " \"apple computer inc. claiming patent infringement in an element of apple ' s popular software program the suit filed in minneapolis federal court claims that apple violated a quickview patent that allows computer users to display only portions of multiple fields on a computer screen with the ability to\",\n",
       " 'apple trees, and as the girls had returned their knees and was pretty well, to the numbers, that not the best of the head nursed, as is here to see the other end of the bed, that this person cannot be shown to be trusted']"
      ]
     },
     "execution_count": 5,
     "metadata": {},
     "output_type": "execute_result"
    }
   ],
   "source": [
    "GENERATE_CONFIG['temperature'] = 0.75\n",
    "GENERATE_CONFIG['greedy'] = False\n",
    "\n",
    "context = \"apple\"\n",
    "context_generate(context, model, tokenizer)"
   ]
  }
 ],
 "metadata": {
  "kernelspec": {
   "display_name": "base",
   "language": "python",
   "name": "python3"
  },
  "language_info": {
   "codemirror_mode": {
    "name": "ipython",
    "version": 3
   },
   "file_extension": ".py",
   "mimetype": "text/x-python",
   "name": "python",
   "nbconvert_exporter": "python",
   "pygments_lexer": "ipython3",
   "version": "3.12.2"
  }
 },
 "nbformat": 4,
 "nbformat_minor": 2
}
