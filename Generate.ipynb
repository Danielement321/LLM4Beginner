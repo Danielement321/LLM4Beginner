{
 "cells": [
  {
   "cell_type": "code",
   "execution_count": 2,
   "metadata": {},
   "outputs": [],
   "source": [
    "import os\n",
    "os.environ['TRANSFORMERS_OFFLINE'] = '1'\n",
    "import torch\n",
    "from transformers import AutoTokenizer\n",
    "from models import *\n",
    "from config import *\n",
    "from utils import *\n",
    "\n",
    "tokenizer = AutoTokenizer.from_pretrained('google-bert/bert-base-uncased')"
   ]
  },
  {
   "cell_type": "markdown",
   "metadata": {},
   "source": [
    "## The Simple FFN Model Generation"
   ]
  },
  {
   "cell_type": "code",
   "execution_count": 3,
   "metadata": {},
   "outputs": [
    {
     "name": "stdout",
     "output_type": "stream",
     "text": [
      "CONFIG:SimpleModelConfig {\n",
      "  \"device\": \"cuda\",\n",
      "  \"dropout\": 0.1,\n",
      "  \"eps\": 1e-06,\n",
      "  \"hidden_size\": 768,\n",
      "  \"intermediate_size\": 3072,\n",
      "  \"max_seq_len\": 64,\n",
      "  \"model_type\": \"simple_ffn_model\",\n",
      "  \"n_layers\": 12,\n",
      "  \"transformers_version\": \"4.46.1\",\n",
      "  \"vocab_size\": 30522\n",
      "}\n",
      "\n",
      "Model Parameters: 131,939,130\n"
     ]
    },
    {
     "data": {
      "text/plain": [
       "<All keys matched successfully>"
      ]
     },
     "execution_count": 3,
     "metadata": {},
     "output_type": "execute_result"
    }
   ],
   "source": [
    "# config = SimpleModelConfig(vocab_size=tokenizer.vocab_size)\n",
    "\n",
    "# config_check(config)\n",
    "# model = SimpleModel(config).to(config.device)\n",
    "# model.load_state_dict(torch.load('ckpts/SimpleModel.pth', weights_only=True), strict=False)"
   ]
  },
  {
   "cell_type": "markdown",
   "metadata": {},
   "source": [
    "# The Decoder Only Transformer Model Generation"
   ]
  },
  {
   "cell_type": "code",
   "execution_count": 4,
   "metadata": {},
   "outputs": [],
   "source": [
    "config = SimpleDecoderOnlyTransformerConfig(vocab_size=tokenizer.vocab_size)\n",
    "\n",
    "config_check(config)\n",
    "model = DecoderOnlyTransformer(config).to(config.device)\n",
    "model.load_state_dict(torch.load('ckpts/DecoderOnlyTransformer.pth', weights_only=True), strict=False)"
   ]
  },
  {
   "cell_type": "code",
   "execution_count": null,
   "metadata": {},
   "outputs": [
    {
     "data": {
      "text/plain": [
       "[\"##dden movies. # million as the two grenades exploded in march along the extradited kidney that killed in afghanistan. greece ' ' s evening from provincial capital, # # # #, lobbing, the first between kenyans to a dispute over what would\",\n",
       " '75esh government spokesman said the opening at the dollar government has clinched a funds wreaking road shouting ` in their america to reased a joint military chief ban on monday, seeking to restore order daiwa bank robber whose rhythmic innovations and heading for distributing',\n",
       " 'translators talks soured woman who had been condemned pending conspiracy charges at t away roads leading the firing of an ounce on sunday. two neighbors took off the world record highs against very familiar opponents in nippon telegraph and a consortium led coalition partner withdrew its private radio from',\n",
       " \"dr. indian mangoes - rrb - room are expected to defend jobs, dealing a military leaders accused pakistan ' s. rescuers # percent in africa and other democrats in a strained left hampions, as u. serbian province of the quarterfinals of\",\n",
       " 'unitary homes in a palestinian militants wage attacks on sunday as insurgents killed an unprecedented week, plucking newfield is paying handsome rewards to live on dissent has severely burned in the second scandal - powered career champ - rich northwestern siberia climbed on monday. european currency',\n",
       " 'little trouble putting away from further deterioration if palestinian militants in a string of cocaine to meet with singapore, saying it publicly refuses u. fbi agents have been higuain over a u. bosnia captured a subsidiary despite massive explosion near the champions failed to the illegitimate',\n",
       " \"panther while hundreds of last on the unk unk giant slalom, a newspaper reported friday : unk vessel partly replencing from the chatter of an israeli public regional trade here on terrorism but repeated baghdad papers on wednesday praised ousted leader ' s shores thursday\",\n",
       " 'crewe negotiations between at the #, analysts said. generale and dale evans that counting should be quietly halt next month as prime minister unk instincts and # # # # - # # people, defense industry has combined clout the us war in lebanon decided',\n",
       " \"##宇leusconfirmed their watches, the crisis head was revealed monday for its future, with north korea ' s aggressive anti - gain from hungary, its expensive boutiques on friday following a world cup final round of the end up to rocket unk in\",\n",
       " '##ව by remembering those who fled the awarding of # # # # # percent and could be stopped six - day earlier agreement with a nearby river estuaries on thursday in a jordanian and into the oil reserves sotigroup announced monday. s. los angeles clip']"
      ]
     },
     "execution_count": 5,
     "metadata": {},
     "output_type": "execute_result"
    }
   ],
   "source": [
    "generated_idx = model.random_generate(batch_size=10, max_new_tokens=50)\n",
    "generated_text = [''.join(tokenizer.decode(x)) for x in generated_idx.tolist()]\n",
    "generated_text"
   ]
  },
  {
   "cell_type": "code",
   "execution_count": 6,
   "metadata": {},
   "outputs": [
    {
     "data": {
      "text/plain": [
       "[\"in recent years to croatia who had hoped to block saturday confirmed wednesday. hundreds of les b - led coalition ' s interior ministry said. eight foreigners in the sting in the # percent of the former warring parties have agreed to win three stadio ' s. a\",\n",
       " 'in recent years ago to allow kenyan security official. premier tansualdo ferreira said. a step toward winning the day of the spanish - # billion dollars on tuesday after they played on thursday. australia well - rrb - run public broadcaster zdf said thursday said.',\n",
       " \"in recent years, the yen on thursday. for his team ' s criminal investigation into a passenger train derailed near the french open at # dollars - hour visit germany was abruptly dismantled the united states, authorities said thursday for the u. poaching majority of the\",\n",
       " \"in recent years. russia ' s. the war in the dauphine, the airport, the research and new video would not personal life in a village held back home the closure of the great players of this week aimed at the cause, israeli since the bangladesh for a\",\n",
       " 'in recent years of the seventh victory over the # # against saddam hussein. # #. a policeman was introduced by a powerful bomb in the meara, russia will be held in the country on wednesday. president george w. the leaders of a dishearten has']"
      ]
     },
     "execution_count": 6,
     "metadata": {},
     "output_type": "execute_result"
    }
   ],
   "source": [
    "# GENERATE_CONFIG['temperature'] = 0.75\n",
    "# GENERATE_CONFIG['greedy'] = False\n",
    "\n",
    "context = \"in recent years\"\n",
    "input_idx = tokenizer(context, return_tensors='pt')['input_ids'][:, 1:-1].repeat(5, 1).to(config.device)\n",
    "# input_idx = tokenizer(context, return_tensors='pt')['input_ids'].repeat(5, 1).to(config.device)\n",
    "generated_idx = model.generate(input_idx, temperature=0.75)\n",
    "generated_text = [''.join(tokenizer.decode(x)) for x in generated_idx.tolist()]\n",
    "generated_text"
   ]
  }
 ],
 "metadata": {
  "kernelspec": {
   "display_name": "base",
   "language": "python",
   "name": "python3"
  },
  "language_info": {
   "codemirror_mode": {
    "name": "ipython",
    "version": 3
   },
   "file_extension": ".py",
   "mimetype": "text/x-python",
   "name": "python",
   "nbconvert_exporter": "python",
   "pygments_lexer": "ipython3",
   "version": "3.12.2"
  }
 },
 "nbformat": 4,
 "nbformat_minor": 2
}
