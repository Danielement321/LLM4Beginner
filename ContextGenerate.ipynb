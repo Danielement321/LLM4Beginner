{
 "cells": [
  {
   "cell_type": "code",
   "execution_count": 1,
   "metadata": {},
   "outputs": [],
   "source": [
    "import os\n",
    "\n",
    "os.environ['TRANSFORMERS_OFFLINE'] = '1'"
   ]
  },
  {
   "cell_type": "code",
   "execution_count": 2,
   "metadata": {},
   "outputs": [],
   "source": [
    "import torch\n",
    "from transformers import AutoTokenizer\n",
    "from models import DecoderOnlyTransformer\n",
    "from config import *\n",
    "from generation import *\n",
    "from utils import config_check"
   ]
  },
  {
   "cell_type": "code",
   "execution_count": 3,
   "metadata": {},
   "outputs": [
    {
     "name": "stdout",
     "output_type": "stream",
     "text": [
      "CONFIG:{'d_model': 512, 'max_seq_length': 64, 'num_heads': 8, 'decoder_depth': 12, 'ffn_dim': 2048, 'dropout': 0.1, 'vocab_size': 21128, 'device': 'cuda'}\n"
     ]
    },
    {
     "data": {
      "text/plain": [
       "<All keys matched successfully>"
      ]
     },
     "execution_count": 3,
     "metadata": {},
     "output_type": "execute_result"
    }
   ],
   "source": [
    "tokenizer = AutoTokenizer.from_pretrained('google-bert/bert-base-chinese')\n",
    "CONFIG['vocab_size'] = tokenizer.vocab_size\n",
    "\n",
    "config_check()\n",
    "model = DecoderOnlyTransformer(CONFIG).to(CONFIG['device'])\n",
    "model.load_state_dict(torch.load('ckpts/model.pth', weights_only=True))"
   ]
  },
  {
   "cell_type": "code",
   "execution_count": 24,
   "metadata": {},
   "outputs": [
    {
     "data": {
      "text/plain": [
       "['哈 雷 彗 星 的 轨 道 ， 以 及 群 牧 羊 者 之 术 ， 并 耶 ， 圣 三 圣 者 礼 。 vi - includek and the history of the [UNK] [UNK], [UNK] [UNK], [UNK], [UNK] [UNK], [UNK] [UNK]',\n",
       " '哈 雷 彗 星 的 鼻 祖 头 在 这 篇 小 说 中 ， 一 说 是 一 说 妈 祖 ， 万 日 好 好 说 火 ， 实 在 是 来 自 『 土 寮 乡 』 慈 安 宫 里 宫 的 玉 像 ， 雷',\n",
       " '哈 雷 彗 星 ） 是 一 颗 彗 星 的 亮 度 的 亮 度 测 量 天 体 。 是 一 个 直 径 的 直 径 ， 在 于 直 径 之 差 ， 公 差 就 在 于 所 有 的 字 面 意 思 的',\n",
       " '哈 雷 彗 星 是 一 颗 不 寻 常 的 性 型 亮 度 。 主 要 是 会 在 25 [UNK] 30, 000 [UNK] [UNK] 20000 附 近 ， 20000 [UNK] 12, 000 [UNK] 超 显 微 亮 的 喜 似 沃 特 [UNK] ， 所',\n",
       " '哈 雷 彗 星 的 最 远 的 太 阳 系 （ 如 右 ） 。 \" \", wiki _ zh \\\\ [UNK] \\\\ wiki _ 74 \" 黄 的 意 思 ， 福 ， 切 带 ， 是 古 迹 的 意 思 ， 「 出 众 不']"
      ]
     },
     "execution_count": 24,
     "metadata": {},
     "output_type": "execute_result"
    }
   ],
   "source": [
    "GENERATE_CONFIG['temperature'] = 0.8\n",
    "GENERATE_CONFIG['greedy'] = False\n",
    "\n",
    "context = \"哈雷彗星\"\n",
    "context_generate(context, model, tokenizer)"
   ]
  }
 ],
 "metadata": {
  "kernelspec": {
   "display_name": "base",
   "language": "python",
   "name": "python3"
  },
  "language_info": {
   "codemirror_mode": {
    "name": "ipython",
    "version": 3
   },
   "file_extension": ".py",
   "mimetype": "text/x-python",
   "name": "python",
   "nbconvert_exporter": "python",
   "pygments_lexer": "ipython3",
   "version": "3.12.2"
  }
 },
 "nbformat": 4,
 "nbformat_minor": 2
}
