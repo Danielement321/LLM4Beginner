{
 "cells": [
  {
   "cell_type": "code",
   "execution_count": 1,
   "metadata": {},
   "outputs": [
    {
     "data": {
      "text/plain": [
       "SimpleDecoderOnlyTransformerConfig {\n",
       "  \"device\": \"cuda\",\n",
       "  \"dropout\": 0.1,\n",
       "  \"eps\": 1e-06,\n",
       "  \"flash_attn\": false,\n",
       "  \"hidden_size\": 768,\n",
       "  \"intermediate_size\": 3072,\n",
       "  \"max_seq_len\": 64,\n",
       "  \"model_type\": \"simple_decoder_only_transformer\",\n",
       "  \"n_layers\": 12,\n",
       "  \"num_attention_heads\": 12,\n",
       "  \"transformers_version\": \"4.48.1\",\n",
       "  \"vocab_size\": 999999\n",
       "}"
      ]
     },
     "execution_count": 1,
     "metadata": {},
     "output_type": "execute_result"
    }
   ],
   "source": [
    "import torch\n",
    "import torch.nn as nn\n",
    "from config import SimpleDecoderOnlyTransformerConfig\n",
    "from einops import rearrange\n",
    "\n",
    "config = SimpleDecoderOnlyTransformerConfig()\n",
    "config"
   ]
  },
  {
   "cell_type": "code",
   "execution_count": 2,
   "metadata": {},
   "outputs": [],
   "source": [
    "q = torch.rand([64, config.max_seq_len, config.num_attention_heads, config.hidden_size//config.num_attention_heads]).to(config.device) # B, seq_len, dim\n",
    "k = torch.rand([64, config.max_seq_len, config.num_attention_heads, config.hidden_size//config.num_attention_heads]).to(config.device) # B, seq_len, dim"
   ]
  },
  {
   "cell_type": "code",
   "execution_count": 10,
   "metadata": {},
   "outputs": [
    {
     "data": {
      "text/plain": [
       "(torch.Size([64, 64, 12, 64]), torch.Size([64, 64, 12, 64]))"
      ]
     },
     "execution_count": 10,
     "metadata": {},
     "output_type": "execute_result"
    }
   ],
   "source": [
    "class RotaryEmbedding(nn.Module):\n",
    "    def __init__(self, config):\n",
    "        super().__init__()\n",
    "        assert config.hidden_size % 2 == 0\n",
    "        head_size = config.hidden_size // config.num_attention_heads\n",
    "        freqs = 1 / (10000 ** (torch.arange(0, head_size, 2) / head_size))\n",
    "        t = torch.arange(0, config.max_seq_len).float()\n",
    "        freqs = torch.outer(t, freqs) # Equivalent to t.unsqueeze(1) @ freqs.unsqueeze(0), but maybe faster\n",
    "        pos_cis = torch.polar(torch.ones_like(freqs), freqs).to(config.device)\n",
    "        pos_cis = rearrange(pos_cis, f'l d -> 1 l 1 d') # [max_seq_len, hidden_size//2] -> [1 max_seq_len 1 hidden_size//2]\n",
    "        self.register_buffer('pos_cis', pos_cis)\n",
    "    \n",
    "    def forward(self, q, k):\n",
    "        seq_len = q.shape[1]\n",
    "        q_ = torch.view_as_complex(q.reshape(*q.shape[:-1], -1, 2).float()) # [b l h k] -> [b l h k//2 2] -> [b l h k//2]\n",
    "        k_ = torch.view_as_complex(k.reshape(*k.shape[:-1], -1, 2).float()) # [b l h k] -> [b l h k//2 2] -> [b l h k//2]\n",
    "        q_out = torch.view_as_real(q_ * self.pos_cis[:seq_len]).flatten(3) # [b l h k//2] -> [b l h k//2 2] -> [b l h k]\n",
    "        k_out = torch.view_as_real(k_ * self.pos_cis[:seq_len]).flatten(3) # [b l h k//2] -> [b l h k//2 2] -> [b l h k]\n",
    "        return q_out, k_out\n",
    "\n",
    "rope = RotaryEmbedding(config)\n",
    "q, k = rope(q, k)\n",
    "q.shape, k.shape"
   ]
  }
 ],
 "metadata": {
  "kernelspec": {
   "display_name": "base",
   "language": "python",
   "name": "python3"
  },
  "language_info": {
   "codemirror_mode": {
    "name": "ipython",
    "version": 3
   },
   "file_extension": ".py",
   "mimetype": "text/x-python",
   "name": "python",
   "nbconvert_exporter": "python",
   "pygments_lexer": "ipython3",
   "version": "3.12.7"
  }
 },
 "nbformat": 4,
 "nbformat_minor": 2
}
