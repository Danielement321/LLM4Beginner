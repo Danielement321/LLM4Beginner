{
 "cells": [
  {
   "cell_type": "code",
   "execution_count": 1,
   "metadata": {},
   "outputs": [],
   "source": [
    "import os\n",
    "\n",
    "os.environ['TRANSFORMERS_OFFLINE'] = '1'"
   ]
  },
  {
   "cell_type": "code",
   "execution_count": 2,
   "metadata": {},
   "outputs": [],
   "source": [
    "import torch\n",
    "from transformers import AutoTokenizer\n",
    "from models import DecoderOnlyTransformer\n",
    "from config import *\n",
    "from generation import *\n",
    "from utils import config_check"
   ]
  },
  {
   "cell_type": "code",
   "execution_count": 3,
   "metadata": {},
   "outputs": [
    {
     "name": "stdout",
     "output_type": "stream",
     "text": [
      "CONFIG:{'d_model': 512, 'max_seq_length': 64, 'num_heads': 8, 'decoder_depth': 12, 'ffn_dim': 2048, 'dropout': 0.1, 'vocab_size': 21128, 'device': 'cuda'}\n"
     ]
    },
    {
     "data": {
      "text/plain": [
       "<All keys matched successfully>"
      ]
     },
     "execution_count": 3,
     "metadata": {},
     "output_type": "execute_result"
    }
   ],
   "source": [
    "tokenizer = AutoTokenizer.from_pretrained('google-bert/bert-base-chinese')\n",
    "CONFIG['vocab_size'] = tokenizer.vocab_size\n",
    "\n",
    "config_check()\n",
    "model = DecoderOnlyTransformer(CONFIG).to(CONFIG['device'])\n",
    "model.load_state_dict(torch.load('ckpts/model.pth', weights_only=True))"
   ]
  },
  {
   "cell_type": "code",
   "execution_count": 4,
   "metadata": {},
   "outputs": [
    {
     "data": {
      "text/plain": [
       "['293 人 。 卫 殇 叔 跃 希 滔 人 ， 号 星 亦 曾 任 外 国 ， 闻 与 马 繇 卫 王 赤 红 香 。 他 们 有 多 名 弟 子 ， 朱 以 崇 拜 祖 父 为 锦 衣 卫 大 虎 眼 睛',\n",
       " '2021 年 。 ) 末 松 滋 生 妻 黄 蓉 （ ） ， 又 名 愉 育 ， 幼 年 母 燕 叔 父 吕 叔 湘 ， 雍 正 届 ， 书 室 败 落 ， 投 代 ， 代 数 其 子 ， 五 世 孙 以 荐',\n",
       " '赔 偿 循 迟 发 的 计 划 ， 卫 如 水 物 而 暗 。 980 － 1656 － 4170 ( 318 亿 ) 画 眉 ) ， 因 而 错 过 高 ， 迟 发 6～9 米 ² - 1. 72 台. cn',\n",
       " '同 年 12 月 25 日 ， 更 名 。 1938 年 ， 经 周 锋 作 为 中 津 坂 ， 1941 年 6 月 7 日 为 行 为 对 日 本 之 三 十 八 烈 士 陵 阔 歼 灭 将 数 万 余 人 ， 并',\n",
       " '溏 （ [UNK] ） （ ） ， 韩 国 前 监 制 雷 佐 ） 为 知 名 ， 是 地 名 地 名 。 县 名 直 译 朝 鲜 年 名 字 子 名 ， 是 来 自 银 川 之 战 遭 冲 谋 处 。 军 队',\n",
       " '顔 款 被 判 三 名 监 禁 六 年 以 上 、 法 或 其 他 非 法 ， 及 违 法 ， 包 营 运 货 。 可 用 于 体 罚 ， 判 [UNK] ， 降 低 尝 试 ， 89 ， 安 全 良 胜 健 康',\n",
       " '搭 篮 球 代 表 队 （ [UNK] [UNK] [UNK] ， [UNK] 主 教 练 ） [UNK] ， 余 下 秀 丽 华 队 。 以 篮 板 效 率 上 优 异 的 成 绩 （ [UNK] [UNK] 在 篮 板 ） 上 队 取 得 第 二 名 。',\n",
       " '##hs 君 [UNK] 七 星 君 ， 户 籍 人 骂 名 声 。 吴 士 杰 林 镇 官 美 岸 。 清 朝 道 光 十 七 年 、 岁 北 室 七 丁 卯 恩 科 华 科 江 湖 花 属 下 的 植 物 部 以',\n",
       " 'center ; \" \" \" ; \" \" | co 负 责 赞 比 之 术 ; 2011 年 节 目 主 持 人 歌 手 奖 ( 奖 ) 最 佳 嘻 哈 童 文 贤 女 士 勇 士 ( か ). [UNK] [ 3 ] [UNK] [UNK]',\n",
       " '##備 弟 。 吏 部 西 北 坡 ， 金 朝 武 定 天 下 ， 密 谋 长 疑 富 弼 的 父 亲 及 弟 子 长 驻 守 ， 迁 停 官 之 职 自 杀 。 好 老 ， 萼 穴 古 阳 守 阳 ， 阳']"
      ]
     },
     "execution_count": 4,
     "metadata": {},
     "output_type": "execute_result"
    }
   ],
   "source": [
    "GENERATE_CONFIG['temperature'] = 1\n",
    "GENERATE_CONFIG['greedy'] = False\n",
    "\n",
    "random_generate(model, tokenizer, batch_size=10, max_new_tokens=50)"
   ]
  }
 ],
 "metadata": {
  "kernelspec": {
   "display_name": "base",
   "language": "python",
   "name": "python3"
  },
  "language_info": {
   "codemirror_mode": {
    "name": "ipython",
    "version": 3
   },
   "file_extension": ".py",
   "mimetype": "text/x-python",
   "name": "python",
   "nbconvert_exporter": "python",
   "pygments_lexer": "ipython3",
   "version": "3.12.2"
  }
 },
 "nbformat": 4,
 "nbformat_minor": 2
}
