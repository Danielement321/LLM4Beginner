{
 "cells": [
  {
   "cell_type": "code",
   "execution_count": 1,
   "metadata": {},
   "outputs": [],
   "source": [
    "import os\n",
    "os.environ['TRANSFORMERS_OFFLINE'] = '1'\n",
    "from models import *"
   ]
  },
  {
   "cell_type": "code",
   "execution_count": null,
   "metadata": {},
   "outputs": [],
   "source": [
    "tokenizer, model = load_model('/root/LLM4Beginner/ckpts/PreTrain')\n",
    "config = model.config"
   ]
  },
  {
   "cell_type": "code",
   "execution_count": null,
   "metadata": {},
   "outputs": [],
   "source": [
    "generated_idx = model.random_generate(batch_size=10, max_new_tokens=50)\n",
    "generated_text = [''.join(tokenizer.decode(x)) for x in generated_idx.tolist()]\n",
    "generated_text"
   ]
  },
  {
   "cell_type": "code",
   "execution_count": null,
   "metadata": {},
   "outputs": [],
   "source": [
    "context = \"the finance ministry\"\n",
    "# input_idx = tokenizer(context, return_tensors='pt')['input_ids'][:, 1:-1].repeat(5, 1).to(config.device) # remove [cls] and [sep] in BERT tokenizer\n",
    "input_idx = tokenizer(context, return_tensors='pt')['input_ids'].repeat(5, 1).to(config.device)\n",
    "generated_idx = model.generate(input_idx, temperature=0.75)\n",
    "generated_text = [''.join(tokenizer.decode(x)) for x in generated_idx.tolist()]\n",
    "generated_text"
   ]
  }
 ],
 "metadata": {
  "kernelspec": {
   "display_name": "base",
   "language": "python",
   "name": "python3"
  },
  "language_info": {
   "codemirror_mode": {
    "name": "ipython",
    "version": 3
   },
   "file_extension": ".py",
   "mimetype": "text/x-python",
   "name": "python",
   "nbconvert_exporter": "python",
   "pygments_lexer": "ipython3",
   "version": "3.12.7"
  }
 },
 "nbformat": 4,
 "nbformat_minor": 2
}
