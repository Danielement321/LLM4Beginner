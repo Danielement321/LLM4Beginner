{
 "cells": [
  {
   "cell_type": "code",
   "execution_count": null,
   "metadata": {},
   "outputs": [],
   "source": [
    "import os\n",
    "os.environ['TRANSFORMERS_OFFLINE'] = '1'\n",
    "from models import *\n",
    "from PIL import Image\n",
    "from data_utils import convert_chat_prompt, convert_chat_reply\n",
    "\n",
    "tokenizer, processor, model = load_model('/root/LLM4Beginner/ckpts/VLMFinetune')"
   ]
  },
  {
   "cell_type": "code",
   "execution_count": null,
   "metadata": {},
   "outputs": [],
   "source": [
    "image = [Image.open('../assets/fridge.png').convert('RGB')]\n",
    "inputs = convert_chat_prompt(\"Describe the image\", image, tokenizer, processor, model.config)\n",
    "generated_idx = model.generate(**inputs, max_new_tokens = 100)\n",
    "convert_chat_reply(generated_idx, inputs, tokenizer)"
   ]
  },
  {
   "cell_type": "code",
   "execution_count": null,
   "metadata": {},
   "outputs": [],
   "source": [
    "inputs = convert_chat_prompt(\"What's the color of sea?\", None, tokenizer, processor, model.config)\n",
    "generated_idx = model.generate(**inputs, max_new_tokens = 100)\n",
    "convert_chat_reply(generated_idx, inputs, tokenizer)"
   ]
  }
 ],
 "metadata": {
  "kernelspec": {
   "display_name": "base",
   "language": "python",
   "name": "python3"
  },
  "language_info": {
   "codemirror_mode": {
    "name": "ipython",
    "version": 3
   },
   "file_extension": ".py",
   "mimetype": "text/x-python",
   "name": "python",
   "nbconvert_exporter": "python",
   "pygments_lexer": "ipython3",
   "version": "3.12.7"
  }
 },
 "nbformat": 4,
 "nbformat_minor": 2
}
