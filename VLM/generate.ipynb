{
 "cells": [
  {
   "cell_type": "code",
   "execution_count": null,
   "metadata": {},
   "outputs": [],
   "source": [
    "import os\n",
    "os.environ['TRANSFORMERS_OFFLINE'] = '1'\n",
    "from models import *\n",
    "from PIL import Image\n",
    "from data_utils import convert_chat_prompt, convert_chat_reply\n",
    "\n",
    "image = Image.open('../assets/extreme-ironing.png').convert('RGB')\n",
    "prompt = \"<image>\\nWhat is unusual about this image?\"\n",
    "image.show()"
   ]
  },
  {
   "cell_type": "code",
   "execution_count": 2,
   "metadata": {},
   "outputs": [],
   "source": [
    "tokenizer, processor, model = load_model('/root/LLM4Beginner/ckpts/VLMFinetune')\n",
    "inputs = convert_chat_prompt(prompt, image, tokenizer, processor, model.config)"
   ]
  },
  {
   "cell_type": "code",
   "execution_count": null,
   "metadata": {},
   "outputs": [],
   "source": [
    "generated_idx = model.generate(**inputs, max_new_tokens = 100)\n",
    "convert_chat_reply(generated_idx, inputs, tokenizer)"
   ]
  }
 ],
 "metadata": {
  "kernelspec": {
   "display_name": "base",
   "language": "python",
   "name": "python3"
  },
  "language_info": {
   "codemirror_mode": {
    "name": "ipython",
    "version": 3
   },
   "file_extension": ".py",
   "mimetype": "text/x-python",
   "name": "python",
   "nbconvert_exporter": "python",
   "pygments_lexer": "ipython3",
   "version": "3.12.7"
  }
 },
 "nbformat": 4,
 "nbformat_minor": 2
}
